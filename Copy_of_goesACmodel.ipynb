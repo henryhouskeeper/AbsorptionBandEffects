{
  "nbformat": 4,
  "nbformat_minor": 0,
  "metadata": {
    "colab": {
      "name": "Copy of goesACmodel.ipynb",
      "provenance": [],
      "mount_file_id": "1VbGJWhr7mOAFHm44y5W8nIa4D2-PIF6s",
      "authorship_tag": "ABX9TyNnytFb/ckdk+jHvt5bqCI+",
      "include_colab_link": true
    },
    "kernelspec": {
      "name": "python3",
      "display_name": "Python 3"
    },
    "language_info": {
      "name": "python"
    }
  },
  "cells": [
    {
      "cell_type": "markdown",
      "metadata": {
        "id": "view-in-github",
        "colab_type": "text"
      },
      "source": [
        "<a href=\"https://colab.research.google.com/github/henryhouskeeper/AbsorptionBandEffects/blob/master/Copy_of_goesACmodel.ipynb\" target=\"_parent\"><img src=\"https://colab.research.google.com/assets/colab-badge.svg\" alt=\"Open In Colab\"/></a>"
      ]
    },
    {
      "cell_type": "code",
      "execution_count": null,
      "metadata": {
        "id": "ZgFN8A8nll6c"
      },
      "outputs": [],
      "source": [
        "###############################################################################\n",
        "# 0a. Install Packages                                                        #\n",
        "###############################################################################\n",
        "\n",
        "!pip install geetools\n",
        "#!pip install geemap\n",
        "\n"
      ]
    },
    {
      "cell_type": "code",
      "source": [
        "###############################################################################\n",
        "# 0b. Import Modules                                                          #\n",
        "###############################################################################\n",
        "\n",
        "import ee, csv, datetime, sys, os, geetools\n",
        "import matplotlib.pyplot as plt\n",
        "import numpy as np"
      ],
      "metadata": {
        "id": "rv7K43cBmJN5"
      },
      "execution_count": null,
      "outputs": []
    },
    {
      "cell_type": "code",
      "source": [
        "###############################################################################\n",
        "# 1. Input MOBY Data                                                          #\n",
        "###############################################################################\n",
        "import numpy as np\n",
        "fname = 'M266_2018120422d.txt'\n",
        "data = np.genfromtxt(fname,delimiter=',',skip_header=42,encoding = 'unicode_escape')\n",
        "#missing_values=None,\n",
        "#filling_values=None)\n",
        "#replace_space='')\n",
        "\n",
        "#print(data)\n",
        "\n",
        "wl = data[:,0]\n",
        "lwn = data[:,1:4]\n",
        "\n",
        "\n",
        "iwl = np.where((wl >= 450) & (wl <= 500))\n",
        "\n",
        "lwn = np.median(data[iwl,1:4], axis=2)\n",
        "\n",
        "#print(iwl)\n",
        "\n",
        "\n",
        "print(lwn)"
      ],
      "metadata": {
        "id": "ZciyBugkluI1",
        "colab": {
          "base_uri": "https://localhost:8080/"
        },
        "outputId": "88e503ea-d33c-42ac-bc78-03e54312cbc9"
      },
      "execution_count": null,
      "outputs": [
        {
          "output_type": "stream",
          "name": "stdout",
          "text": [
            "[[0.914824 0.92001  0.89689  0.872766 0.836428 0.817118 0.849993 0.862249\n",
            "  0.845904 0.856539 0.882881 0.882695 0.887215 0.879383 0.858539 0.868669\n",
            "  0.865259 0.870692 0.888098 0.897658 0.895343 0.89948  0.896591 0.88202\n",
            "  0.866513 0.853426 0.86179  0.86525  0.843463 0.827449 0.847773 0.84197\n",
            "  0.845351 0.835446 0.815691 0.800215 0.811982 0.831664 0.838385 0.813788\n",
            "  0.801855 0.810039 0.814987 0.803061 0.783965 0.774687 0.774808 0.79271\n",
            "  0.790455 0.7744   0.775844 0.781353 0.768941 0.764774 0.76895  0.763952\n",
            "  0.747807 0.73822  0.727359 0.714748 0.694679 0.644332 0.588467 0.618604\n",
            "  0.642752 0.658978 0.652484 0.638221 0.661202 0.659632 0.641148 0.619116\n",
            "  0.595908 0.596202 0.607644 0.589625 0.591554 0.592252 0.573705 0.554859\n",
            "  0.558131 0.543883 0.52841  0.499467 0.500121 0.496107 0.477021]]\n"
          ]
        }
      ]
    },
    {
      "cell_type": "code",
      "source": [
        "###############################################################################\n",
        "# 2. MOBY SRL Corrections                                                     #\n",
        "###############################################################################"
      ],
      "metadata": {
        "id": "ytAhKf9YlzeO"
      },
      "execution_count": null,
      "outputs": []
    },
    {
      "cell_type": "code",
      "source": [
        "###############################################################################\n",
        "# 3. Extract GOES Matchups                                                    #\n",
        "###############################################################################\n",
        "\n",
        "###############################################################################\n",
        "#   3.1  Initialize GEE                                                       #\n",
        "###############################################################################\n",
        "\n",
        "## Trigger the authentication flow.\n",
        "ee.Authenticate()\n",
        "\n",
        "## Initialize the library.\n",
        "ee.Initialize()\n",
        "\n"
      ],
      "metadata": {
        "id": "D8uVD2dOl4I6"
      },
      "execution_count": null,
      "outputs": []
    },
    {
      "cell_type": "code",
      "source": [
        "###############################################################################\n",
        "#   3.2  Export Matchups.                                                     #\n",
        "###############################################################################\n"
      ],
      "metadata": {
        "id": "89KMC_Pql6XX"
      },
      "execution_count": null,
      "outputs": []
    },
    {
      "cell_type": "code",
      "source": [
        "###############################################################################\n",
        "# 4. Partition Training, Validation, Test Datasets                            #\n",
        "###############################################################################"
      ],
      "metadata": {
        "id": "pF8udIRsmC11"
      },
      "execution_count": null,
      "outputs": []
    },
    {
      "cell_type": "code",
      "source": [
        "###############################################################################\n",
        "# 5. Run ANN Model                                                            #\n",
        "###############################################################################"
      ],
      "metadata": {
        "id": "OI3SShIgmFlF"
      },
      "execution_count": null,
      "outputs": []
    }
  ]
}